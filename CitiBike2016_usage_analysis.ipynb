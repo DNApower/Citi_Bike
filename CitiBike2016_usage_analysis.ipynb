{
 "cells": [
  {
   "cell_type": "code",
   "execution_count": 1,
   "metadata": {
    "collapsed": true
   },
   "outputs": [],
   "source": [
    "%matplotlib inline\n",
    "import pandas as pd\n",
    "import numpy as np\n",
    "from datetime import datetime\n",
    "from matplotlib import pyplot as plt\n",
    "import seaborn as sns"
   ]
  },
  {
   "cell_type": "markdown",
   "metadata": {},
   "source": [
    "# 1. Using dock data to calculate the daily bike occupation ratio and  percent empty (percentage of time the station had no bikes available)"
   ]
  },
  {
   "cell_type": "code",
   "execution_count": 2,
   "metadata": {},
   "outputs": [
    {
     "name": "stderr",
     "output_type": "stream",
     "text": [
      "/Users/jiepeng/anaconda/envs/python3/lib/python3.5/site-packages/ipykernel/__main__.py:21: SettingWithCopyWarning: \n",
      "A value is trying to be set on a copy of a slice from a DataFrame.\n",
      "Try using .loc[row_indexer,col_indexer] = value instead\n",
      "\n",
      "See the caveats in the documentation: http://pandas.pydata.org/pandas-docs/stable/indexing.html#indexing-view-versus-copy\n",
      "/Users/jiepeng/anaconda/envs/python3/lib/python3.5/site-packages/ipykernel/__main__.py:24: SettingWithCopyWarning: \n",
      "A value is trying to be set on a copy of a slice from a DataFrame.\n",
      "Try using .loc[row_indexer,col_indexer] = value instead\n",
      "\n",
      "See the caveats in the documentation: http://pandas.pydata.org/pandas-docs/stable/indexing.html#indexing-view-versus-copy\n"
     ]
    },
    {
     "name": "stdout",
     "output_type": "stream",
     "text": [
      "This is month 04, the data number of the month is 1069908, the total numbe is 1069908\n",
      "This is month 05, the data number of the month is 565336, the total numbe is 1635244\n",
      "This is month 06, the data number of the month is 1061057, the total numbe is 2696301\n"
     ]
    },
    {
     "name": "stderr",
     "output_type": "stream",
     "text": [
      "b'Skipping line 646269: expected 14 fields, saw 12914\\n'\n"
     ]
    },
    {
     "name": "stdout",
     "output_type": "stream",
     "text": [
      "This is month 07, the data number of the month is 640839, the total numbe is 3337140\n"
     ]
    },
    {
     "name": "stderr",
     "output_type": "stream",
     "text": [
      "b'Skipping line 586070: expected 32 fields, saw 34772\\n'\n"
     ]
    },
    {
     "name": "stdout",
     "output_type": "stream",
     "text": [
      "This is month 08, the data number of the month is 643205, the total numbe is 3980345\n"
     ]
    },
    {
     "name": "stderr",
     "output_type": "stream",
     "text": [
      "b'Skipping line 551468: expected 50 fields, saw 22370\\nSkipping line 551473: expected 50 fields, saw 98\\n'\n"
     ]
    },
    {
     "name": "stdout",
     "output_type": "stream",
     "text": [
      "This is month 09, the data number of the month is 678909, the total numbe is 4659254\n"
     ]
    },
    {
     "data": {
      "text/html": [
       "<div>\n",
       "<style>\n",
       "    .dataframe thead tr:only-child th {\n",
       "        text-align: right;\n",
       "    }\n",
       "\n",
       "    .dataframe thead th {\n",
       "        text-align: left;\n",
       "    }\n",
       "\n",
       "    .dataframe tbody tr th {\n",
       "        vertical-align: top;\n",
       "    }\n",
       "</style>\n",
       "<table border=\"1\" class=\"dataframe\">\n",
       "  <thead>\n",
       "    <tr style=\"text-align: right;\">\n",
       "      <th></th>\n",
       "      <th>dock_id</th>\n",
       "      <th>dock_name</th>\n",
       "      <th>date</th>\n",
       "      <th>hour</th>\n",
       "      <th>minute</th>\n",
       "      <th>avail_bikes</th>\n",
       "      <th>avail_docks</th>\n",
       "      <th>tot_docks</th>\n",
       "      <th>_lat</th>\n",
       "      <th>_long</th>\n",
       "      <th>time</th>\n",
       "      <th>bike occupation ratio</th>\n",
       "    </tr>\n",
       "  </thead>\n",
       "  <tbody>\n",
       "    <tr>\n",
       "      <th>0</th>\n",
       "      <td>72</td>\n",
       "      <td>W 52 St &amp; 11 Ave</td>\n",
       "      <td>16-04-01</td>\n",
       "      <td>3</td>\n",
       "      <td>24</td>\n",
       "      <td>15.0</td>\n",
       "      <td>24</td>\n",
       "      <td>39.0</td>\n",
       "      <td>40.767272</td>\n",
       "      <td>-73.993929</td>\n",
       "      <td>2016-04-01 03:24:00</td>\n",
       "      <td>0.384615</td>\n",
       "    </tr>\n",
       "    <tr>\n",
       "      <th>1</th>\n",
       "      <td>72</td>\n",
       "      <td>W 52 St &amp; 11 Ave</td>\n",
       "      <td>16-04-01</td>\n",
       "      <td>3</td>\n",
       "      <td>45</td>\n",
       "      <td>15.0</td>\n",
       "      <td>24</td>\n",
       "      <td>39.0</td>\n",
       "      <td>40.767272</td>\n",
       "      <td>-73.993929</td>\n",
       "      <td>2016-04-01 03:45:00</td>\n",
       "      <td>0.384615</td>\n",
       "    </tr>\n",
       "    <tr>\n",
       "      <th>2</th>\n",
       "      <td>72</td>\n",
       "      <td>W 52 St &amp; 11 Ave</td>\n",
       "      <td>16-04-01</td>\n",
       "      <td>3</td>\n",
       "      <td>56</td>\n",
       "      <td>15.0</td>\n",
       "      <td>24</td>\n",
       "      <td>39.0</td>\n",
       "      <td>40.767272</td>\n",
       "      <td>-73.993929</td>\n",
       "      <td>2016-04-01 03:56:00</td>\n",
       "      <td>0.384615</td>\n",
       "    </tr>\n",
       "    <tr>\n",
       "      <th>3</th>\n",
       "      <td>72</td>\n",
       "      <td>W 52 St &amp; 11 Ave</td>\n",
       "      <td>16-04-01</td>\n",
       "      <td>4</td>\n",
       "      <td>7</td>\n",
       "      <td>15.0</td>\n",
       "      <td>24</td>\n",
       "      <td>39.0</td>\n",
       "      <td>40.767272</td>\n",
       "      <td>-73.993929</td>\n",
       "      <td>2016-04-01 04:07:00</td>\n",
       "      <td>0.384615</td>\n",
       "    </tr>\n",
       "    <tr>\n",
       "      <th>4</th>\n",
       "      <td>72</td>\n",
       "      <td>W 52 St &amp; 11 Ave</td>\n",
       "      <td>16-04-01</td>\n",
       "      <td>4</td>\n",
       "      <td>22</td>\n",
       "      <td>15.0</td>\n",
       "      <td>24</td>\n",
       "      <td>39.0</td>\n",
       "      <td>40.767272</td>\n",
       "      <td>-73.993929</td>\n",
       "      <td>2016-04-01 04:22:00</td>\n",
       "      <td>0.384615</td>\n",
       "    </tr>\n",
       "  </tbody>\n",
       "</table>\n",
       "</div>"
      ],
      "text/plain": [
       "   dock_id         dock_name      date  hour  minute  avail_bikes  \\\n",
       "0       72  W 52 St & 11 Ave  16-04-01     3      24         15.0   \n",
       "1       72  W 52 St & 11 Ave  16-04-01     3      45         15.0   \n",
       "2       72  W 52 St & 11 Ave  16-04-01     3      56         15.0   \n",
       "3       72  W 52 St & 11 Ave  16-04-01     4       7         15.0   \n",
       "4       72  W 52 St & 11 Ave  16-04-01     4      22         15.0   \n",
       "\n",
       "   avail_docks  tot_docks       _lat      _long                time  \\\n",
       "0           24       39.0  40.767272 -73.993929 2016-04-01 03:24:00   \n",
       "1           24       39.0  40.767272 -73.993929 2016-04-01 03:45:00   \n",
       "2           24       39.0  40.767272 -73.993929 2016-04-01 03:56:00   \n",
       "3           24       39.0  40.767272 -73.993929 2016-04-01 04:07:00   \n",
       "4           24       39.0  40.767272 -73.993929 2016-04-01 04:22:00   \n",
       "\n",
       "   bike occupation ratio  \n",
       "0               0.384615  \n",
       "1               0.384615  \n",
       "2               0.384615  \n",
       "3               0.384615  \n",
       "4               0.384615  "
      ]
     },
     "execution_count": 2,
     "metadata": {},
     "output_type": "execute_result"
    }
   ],
   "source": [
    "# Aggregating data\n",
    "\n",
    "a = ['04', '05', '06','07', '08', '09']\n",
    "\n",
    "alldock = pd.DataFrame()\n",
    "for num in a:\n",
    "     # Read in data and select the first 13 columns\n",
    "    df = pd.read_csv(\"dockdata/TheOpenBus/2016-{}/bikeshare_nyc_raw.csv\".format(num), sep=\"\\t\", error_bad_lines=False).iloc[:, :13]\n",
    "    # Filter out the stations not in use\n",
    "    dock = df.loc[df['in_service'] == 1]\n",
    "    dock = dock.drop('in_service', 1)\n",
    "    dock = dock.drop('status_key', 1)\n",
    "    \n",
    "    # construct 24 hour time\n",
    "    df0 = dock[dock.pm == 1]\n",
    "    df1 = dock[dock.pm == 0]\n",
    "    # am change to 24 hour time\n",
    "    df10 = df1[df1.hour != 12]\n",
    "    # keep 12am to 0 at midnight\n",
    "    df11 = df1[df1.hour == 12]\n",
    "    df11['hour'] = 0\n",
    "    # pm change to 24 hour time\n",
    "    df00 = df0[df0.hour != 12]\n",
    "    df00['hour'] = df00['hour'] + 12\n",
    "    # keep 12 pm as the same (at about noon)\n",
    "    df01 = df0[df0.hour == 12]\n",
    "    dock = df10.append([df11,df00,df01])\n",
    "    dock = dock.drop('pm', 1)\n",
    "    \n",
    "    #dock = dock.drop(dock[dock.in_service = 0].index)\n",
    "    dock['time'] = \"20\" + dock['date'] + \" \" + dock['hour'].astype(str) + \":\" \\\n",
    "                + dock['minute'].astype(str)\n",
    "    dock['time']=dock['time'].map(lambda x: datetime.strptime(x,'%Y-%m-%d %H:%M'))\n",
    "    dock = dock.sort_index()\n",
    "    dock['bike occupation ratio'] = dock['avail_bikes'] / (dock['avail_bikes'] + dock['avail_docks'])\n",
    "    #dock['quarter']= dock.time.dt.quarter\n",
    "    #dock['month'] = dock.time.dt.month\n",
    "    #dock['day']= dock.time.dt.day\n",
    "    #dock['hour']= dock.time.dt.hour\n",
    "    #dock['week']= dock.time.dt.week\n",
    "    #dock['dayofweek']= dock.time.dt.dayofweek\n",
    "    #dock['weekday_name']= dock.time.dt.weekday_name\n",
    "    \n",
    "    alldock = alldock.append(dock, ignore_index=True)\n",
    "    print('This is month {}, the data number of the month is {}, the total numbe is {}'.format(num, len(dock), len(alldock)))\n",
    "\n",
    "# Sort the data \n",
    "alldock = alldock.sort_values(by=['dock_id', 'time'], ascending=[True, True])\n",
    "\n",
    "alldock.to_csv('Results/Dock_data.csv', index= False, sep=',')\n",
    "\n",
    "alldock.head()"
   ]
  },
  {
   "cell_type": "code",
   "execution_count": 3,
   "metadata": {
    "collapsed": true
   },
   "outputs": [],
   "source": [
    "# Take the station information into a indivisual file\n",
    "station_info = alldock[['dock_id', 'dock_name', '_lat', '_long']].drop_duplicates()\n",
    "station_info = station_info.dropna(axis=0, how='any')\n",
    "station_info = station_info.loc[station_info['_lat'] > 40]\n",
    "station_info.loc[station_info['_long'] > 40, '_long']= -73.977885\n",
    "# Set new column names\n",
    "cols = ['station id','station name','station latitude','station longitude']\n",
    "station_info.columns = cols\n",
    "\n",
    "station_info.to_csv('Results/station_names.csv', index= False, sep=',')\n",
    "\n",
    "# Later have visual inspection in excel"
   ]
  },
  {
   "cell_type": "code",
   "execution_count": 4,
   "metadata": {
    "collapsed": true
   },
   "outputs": [],
   "source": [
    "# bike occupation ratio each day\n",
    "bike_occupation_ratio  = alldock.groupby(['dock_id', 'date'])['bike occupation ratio'].mean().reset_index()\n",
    "bike_occupation_ratio.to_csv('Results/bike_occupation_ratio_each_day.csv', index= False, sep=',')  \n",
    "\n",
    "# bike occupation ratio daily at each station\n",
    "bike_occupation_ratio_station = bike_occupation_ratio.groupby(['dock_id'])['bike occupation ratio'].mean().reset_index()\n",
    "cols = ['station id','daily bike occupation ratio']\n",
    "bike_occupation_ratio_station.columns = cols\n",
    "bike_occupation_ratio_station.to_csv('Results/bike_occupation_ratio_station_perday_station.csv', index= False, sep=',')\n"
   ]
  },
  {
   "cell_type": "code",
   "execution_count": 23,
   "metadata": {},
   "outputs": [],
   "source": [
    "# Calculate timespan that station have no bike\n",
    "\n",
    "# Calculalte timespan between each datapoints\n",
    "alldock['time2'] = alldock.time\n",
    "alldock['timedelta'] = (alldock['time']-alldock['time2'].shift()).fillna(0)\n",
    "alldock.loc[alldock['timedelta'] < pd.Timedelta(0), 'timedelta'] = 0\n",
    "alldock['timedelta_seconds'] = alldock['timedelta'].apply(lambda row: row.total_seconds())\n",
    "\n",
    "# Calculate percentage for the timespan over 24 hours\n",
    "alldock['empty rate'] = np.nan\n",
    "alldock['empty rate'] = alldock['timedelta_seconds'] / (24*60*60)\n",
    "# Filter out the percentage for the timespan over 24 hours when the station is not empty with bikes\n",
    "alldock.loc[alldock['avail_bikes'] > 0, 'empty rate'] = 0\n",
    "alldock.to_csv('Results/dock_data_percent_empty.csv', index= False, sep=',')\n",
    "\n",
    "# Percent empty at each day\n",
    "Percent_empty = alldock.groupby(['dock_id', 'date'])['empty rate'].sum().reset_index()\n",
    "Percent_empty.to_csv('Results/dock_data_percent_empty_each_day.csv', index= False, sep=',')\n",
    "\n",
    "# Percent empty perday by station\n",
    "Percent_empty_station = Percent_empty.groupby(['dock_id'])['empty rate'].mean().reset_index()\n",
    "Percent_empty_station.to_csv('Results/dock_data_percent_empty_perday_station.csv', index= False, sep=',')"
   ]
  },
  {
   "cell_type": "code",
   "execution_count": 22,
   "metadata": {},
   "outputs": [
    {
     "data": {
      "text/html": [
       "<div>\n",
       "<style>\n",
       "    .dataframe thead tr:only-child th {\n",
       "        text-align: right;\n",
       "    }\n",
       "\n",
       "    .dataframe thead th {\n",
       "        text-align: left;\n",
       "    }\n",
       "\n",
       "    .dataframe tbody tr th {\n",
       "        vertical-align: top;\n",
       "    }\n",
       "</style>\n",
       "<table border=\"1\" class=\"dataframe\">\n",
       "  <thead>\n",
       "    <tr style=\"text-align: right;\">\n",
       "      <th></th>\n",
       "      <th>station id</th>\n",
       "      <th>daily bike occupation ratio</th>\n",
       "    </tr>\n",
       "  </thead>\n",
       "  <tbody>\n",
       "    <tr>\n",
       "      <th>0</th>\n",
       "      <td>72</td>\n",
       "      <td>0.074340</td>\n",
       "    </tr>\n",
       "    <tr>\n",
       "      <th>1</th>\n",
       "      <td>79</td>\n",
       "      <td>0.252935</td>\n",
       "    </tr>\n",
       "    <tr>\n",
       "      <th>2</th>\n",
       "      <td>82</td>\n",
       "      <td>0.077839</td>\n",
       "    </tr>\n",
       "    <tr>\n",
       "      <th>3</th>\n",
       "      <td>83</td>\n",
       "      <td>0.000904</td>\n",
       "    </tr>\n",
       "    <tr>\n",
       "      <th>4</th>\n",
       "      <td>116</td>\n",
       "      <td>0.070755</td>\n",
       "    </tr>\n",
       "  </tbody>\n",
       "</table>\n",
       "</div>"
      ],
      "text/plain": [
       "   station id  daily bike occupation ratio\n",
       "0          72                     0.074340\n",
       "1          79                     0.252935\n",
       "2          82                     0.077839\n",
       "3          83                     0.000904\n",
       "4         116                     0.070755"
      ]
     },
     "execution_count": 22,
     "metadata": {},
     "output_type": "execute_result"
    }
   ],
   "source": [
    "Percent_empty_station.head()"
   ]
  },
  {
   "cell_type": "code",
   "execution_count": null,
   "metadata": {
    "collapsed": true
   },
   "outputs": [],
   "source": []
  },
  {
   "cell_type": "markdown",
   "metadata": {},
   "source": [
    "bike_availability_hour = pd.read_csv('bike_availibility_by_hour.csv', sep=',')\n",
    "\n",
    "bike_availability_hour.loc[bike_availability_hour['bike_available_rate'] < 0.2, 'status'] = 'Less Bike'\n",
    "bike_availability_hour.loc[bike_availability_hour['bike_available_rate'] > 0.8, 'status'] = 'Less Dock'\n",
    "bike_availability_hour.loc[(bike_availability_hour['bike_available_rate'] >= 0.2) &  (bike_availability_hour['bike_available_rate'] <= 0.8), 'status'] = 'Balanced'\n",
    "bike_availability_hour"
   ]
  },
  {
   "cell_type": "markdown",
   "metadata": {},
   "source": [
    "hourly = bike_availability_hour.groupby(['dock_id','hour'])['bike_available_rate'].mean().reset_index()"
   ]
  },
  {
   "cell_type": "markdown",
   "metadata": {},
   "source": [
    "hourly_pivot= hourly.pivot(index='dock_id', columns='hour', values='bike_available_rate')"
   ]
  },
  {
   "cell_type": "markdown",
   "metadata": {},
   "source": [
    "plt.figure(figsize = (15, 30))\n",
    "sns.heatmap(hourly_pivot, cmap='RdYlGn_r')"
   ]
  },
  {
   "cell_type": "markdown",
   "metadata": {},
   "source": [
    "# 2. Use Trip data to calculate the Parking time, Daily parking counts, Daily rides counts"
   ]
  },
  {
   "cell_type": "code",
   "execution_count": null,
   "metadata": {},
   "outputs": [],
   "source": [
    "b = [ '201604', '201605', '201606','201607', '201608', '201609']\n",
    "\n",
    "for num in b:\n",
    "    df = pd.read_csv(\"tripdata/{}-citibike-tripdata.csv\".format(num))\n",
    "    # Remove unnecessary columns\n",
    "    df.drop(['usertype', 'birth year', 'gender', 'start station name', 'start station latitude',\n",
    "            'start station longitude', 'end station name', 'end station latitude', 'end station latitude'], 1)   \n",
    "    df['starttime'] = pd.to_datetime(df.starttime)\n",
    "    df['stoptime'] = pd.to_datetime(df.stoptime)\n",
    "    df.to_csv('Results/trips_{}.csv'.format(num), index= False, sep=',')\n",
    "    print('This is month {}, the data number of the month is {}'.format(num, len(df)))\n",
    "    "
   ]
  },
  {
   "cell_type": "code",
   "execution_count": 9,
   "metadata": {},
   "outputs": [
    {
     "name": "stdout",
     "output_type": "stream",
     "text": [
      "This is month 201604\n",
      "This is month 201605\n",
      "This is month 201606\n",
      "This is month 201607\n",
      "This is month 201608\n",
      "This is month 201609\n"
     ]
    }
   ],
   "source": [
    "b = [ '201604', '201605', '201606','201607', '201608', '201609']\n",
    "alltrip= pd.DataFrame()\n",
    "for num in b:\n",
    "    df = pd.read_csv('Results/trips_{}.csv'.format(num), sep=',')\n",
    "    alltrip = alltrip.append(df)\n",
    "    print('This is month {}'.format(num))\n",
    "alltrip.to_csv('Results/All_trips_2016_summer.csv', index= False, sep=',')\n",
    "\n",
    "alltrip['starttime'] = pd.to_datetime(alltrip.starttime)\n",
    "alltrip['stoptime'] = pd.to_datetime(alltrip.stoptime)"
   ]
  },
  {
   "cell_type": "markdown",
   "metadata": {},
   "source": [
    "### Calculate the Parking time ( Median parking time for a bike in the station)"
   ]
  },
  {
   "cell_type": "code",
   "execution_count": 10,
   "metadata": {},
   "outputs": [
    {
     "data": {
      "text/html": [
       "<div>\n",
       "<style>\n",
       "    .dataframe thead tr:only-child th {\n",
       "        text-align: right;\n",
       "    }\n",
       "\n",
       "    .dataframe thead th {\n",
       "        text-align: left;\n",
       "    }\n",
       "\n",
       "    .dataframe tbody tr th {\n",
       "        vertical-align: top;\n",
       "    }\n",
       "</style>\n",
       "<table border=\"1\" class=\"dataframe\">\n",
       "  <thead>\n",
       "    <tr style=\"text-align: right;\">\n",
       "      <th></th>\n",
       "      <th>station id</th>\n",
       "      <th>bikeid</th>\n",
       "      <th>stoptime</th>\n",
       "      <th>starttime</th>\n",
       "    </tr>\n",
       "  </thead>\n",
       "  <tbody>\n",
       "    <tr>\n",
       "      <th>0</th>\n",
       "      <td>236</td>\n",
       "      <td>19704</td>\n",
       "      <td>2016-04-01 00:08:42</td>\n",
       "      <td>2016-04-01 00:56:10</td>\n",
       "    </tr>\n",
       "    <tr>\n",
       "      <th>1</th>\n",
       "      <td>236</td>\n",
       "      <td>19704</td>\n",
       "      <td>2016-04-01 00:08:42</td>\n",
       "      <td>2016-05-13 07:48:06</td>\n",
       "    </tr>\n",
       "    <tr>\n",
       "      <th>2</th>\n",
       "      <td>236</td>\n",
       "      <td>19704</td>\n",
       "      <td>2016-04-01 00:08:42</td>\n",
       "      <td>2016-06-05 02:30:11</td>\n",
       "    </tr>\n",
       "    <tr>\n",
       "      <th>3</th>\n",
       "      <td>236</td>\n",
       "      <td>19704</td>\n",
       "      <td>2016-04-01 00:08:42</td>\n",
       "      <td>2016-06-22 10:18:11</td>\n",
       "    </tr>\n",
       "    <tr>\n",
       "      <th>4</th>\n",
       "      <td>236</td>\n",
       "      <td>19704</td>\n",
       "      <td>2016-04-01 00:08:42</td>\n",
       "      <td>2016-08-07 22:53:41</td>\n",
       "    </tr>\n",
       "  </tbody>\n",
       "</table>\n",
       "</div>"
      ],
      "text/plain": [
       "   station id  bikeid            stoptime           starttime\n",
       "0         236   19704 2016-04-01 00:08:42 2016-04-01 00:56:10\n",
       "1         236   19704 2016-04-01 00:08:42 2016-05-13 07:48:06\n",
       "2         236   19704 2016-04-01 00:08:42 2016-06-05 02:30:11\n",
       "3         236   19704 2016-04-01 00:08:42 2016-06-22 10:18:11\n",
       "4         236   19704 2016-04-01 00:08:42 2016-08-07 22:53:41"
      ]
     },
     "execution_count": 10,
     "metadata": {},
     "output_type": "execute_result"
    }
   ],
   "source": [
    "# Isolate the bike parking start time\n",
    "ended_station=alltrip[['end station id', 'bikeid', 'stoptime']]\n",
    "cols1 = ['station id', 'bikeid', 'stoptime']\n",
    "ended_station.columns = cols1\n",
    "\n",
    "# Isolate the bike parking end time\n",
    "start_station =alltrip[['start station id', 'bikeid', 'starttime']]\n",
    "cols2 = ['station id', 'bikeid', 'starttime']\n",
    "start_station.columns = cols2\n",
    "# create a new dataframe with each biks stoptime and starttime lined up at each station (contain duplicates)\n",
    "station_trip = pd.merge(ended_station, start_station, how='left', on = ['station id','bikeid'])\n",
    "station_trip.head()"
   ]
  },
  {
   "cell_type": "code",
   "execution_count": 11,
   "metadata": {},
   "outputs": [],
   "source": [
    "# Calculate the difference between stoptime and starttime\n",
    "station_trip['TimeDiff'] = station_trip['starttime'] - station_trip['stoptime']\n",
    "# remove null\n",
    "station_trip = station_trip[station_trip.TimeDiff.notnull()]\n",
    "# remove the time starttime earlier than stoptime data\n",
    "station_trip = station_trip.drop(station_trip[station_trip['TimeDiff'] < pd.Timedelta(0)].index)\n",
    "\n",
    "# The smallest time interval would be the parking time for a bike parked at a specific time\n",
    "station_trip = station_trip.groupby(['station id', 'bikeid', 'stoptime'])['TimeDiff'].min().reset_index()\n",
    "# Create a column have the time difference changed to seconds\n",
    "station_trip['TimeDiff_convert'] = station_trip['TimeDiff'].apply(lambda row: row.total_seconds())\n",
    "station_trip.to_csv('Results/station_bike_parking_time_each_bike.csv', index = False, sep = ',')\n"
   ]
  },
  {
   "cell_type": "code",
   "execution_count": 36,
   "metadata": {},
   "outputs": [
    {
     "data": {
      "text/html": [
       "<div>\n",
       "<style>\n",
       "    .dataframe thead tr:only-child th {\n",
       "        text-align: right;\n",
       "    }\n",
       "\n",
       "    .dataframe thead th {\n",
       "        text-align: left;\n",
       "    }\n",
       "\n",
       "    .dataframe tbody tr th {\n",
       "        vertical-align: top;\n",
       "    }\n",
       "</style>\n",
       "<table border=\"1\" class=\"dataframe\">\n",
       "  <thead>\n",
       "    <tr style=\"text-align: right;\">\n",
       "      <th></th>\n",
       "      <th>station id</th>\n",
       "      <th>parking time</th>\n",
       "    </tr>\n",
       "  </thead>\n",
       "  <tbody>\n",
       "    <tr>\n",
       "      <th>0</th>\n",
       "      <td>72</td>\n",
       "      <td>1263.5</td>\n",
       "    </tr>\n",
       "    <tr>\n",
       "      <th>1</th>\n",
       "      <td>79</td>\n",
       "      <td>3613.0</td>\n",
       "    </tr>\n",
       "    <tr>\n",
       "      <th>2</th>\n",
       "      <td>82</td>\n",
       "      <td>4086.0</td>\n",
       "    </tr>\n",
       "    <tr>\n",
       "      <th>3</th>\n",
       "      <td>83</td>\n",
       "      <td>11965.0</td>\n",
       "    </tr>\n",
       "    <tr>\n",
       "      <th>4</th>\n",
       "      <td>116</td>\n",
       "      <td>989.0</td>\n",
       "    </tr>\n",
       "  </tbody>\n",
       "</table>\n",
       "</div>"
      ],
      "text/plain": [
       "   station id  parking time\n",
       "0          72        1263.5\n",
       "1          79        3613.0\n",
       "2          82        4086.0\n",
       "3          83       11965.0\n",
       "4         116         989.0"
      ]
     },
     "execution_count": 36,
     "metadata": {},
     "output_type": "execute_result"
    }
   ],
   "source": [
    "# Calculate the median time for parking\n",
    "station_trip_median = station_trip.groupby(['station id'])['TimeDiff_convert'].median().reset_index()\n",
    "cols3 = ['station id', 'parking time']\n",
    "station_trip_median.columns = cols3\n",
    "station_trip_median.to_csv('Results/station_bike_parking_time_median.csv', index = False, sep = ',')\n",
    "station_trip_median.head()"
   ]
  },
  {
   "cell_type": "code",
   "execution_count": null,
   "metadata": {
    "collapsed": true
   },
   "outputs": [],
   "source": []
  },
  {
   "cell_type": "markdown",
   "metadata": {},
   "source": [
    "## Calculate the Daily rides counts and hourly rides rate "
   ]
  },
  {
   "cell_type": "code",
   "execution_count": 13,
   "metadata": {},
   "outputs": [
    {
     "data": {
      "text/html": [
       "<div>\n",
       "<style>\n",
       "    .dataframe thead tr:only-child th {\n",
       "        text-align: right;\n",
       "    }\n",
       "\n",
       "    .dataframe thead th {\n",
       "        text-align: left;\n",
       "    }\n",
       "\n",
       "    .dataframe tbody tr th {\n",
       "        vertical-align: top;\n",
       "    }\n",
       "</style>\n",
       "<table border=\"1\" class=\"dataframe\">\n",
       "  <thead>\n",
       "    <tr style=\"text-align: right;\">\n",
       "      <th></th>\n",
       "      <th>tripduration</th>\n",
       "      <th>starttime</th>\n",
       "      <th>stoptime</th>\n",
       "      <th>start station id</th>\n",
       "      <th>start station name</th>\n",
       "      <th>start station latitude</th>\n",
       "      <th>start station longitude</th>\n",
       "      <th>end station id</th>\n",
       "      <th>end station name</th>\n",
       "      <th>end station latitude</th>\n",
       "      <th>end station longitude</th>\n",
       "      <th>bikeid</th>\n",
       "      <th>usertype</th>\n",
       "      <th>birth year</th>\n",
       "      <th>gender</th>\n",
       "    </tr>\n",
       "  </thead>\n",
       "  <tbody>\n",
       "    <tr>\n",
       "      <th>0</th>\n",
       "      <td>496</td>\n",
       "      <td>2016-04-01 00:00:26</td>\n",
       "      <td>2016-04-01 00:08:42</td>\n",
       "      <td>254</td>\n",
       "      <td>W 11 St &amp; 6 Ave</td>\n",
       "      <td>40.735324</td>\n",
       "      <td>-73.998004</td>\n",
       "      <td>236</td>\n",
       "      <td>St Marks Pl &amp; 2 Ave</td>\n",
       "      <td>40.728419</td>\n",
       "      <td>-73.987140</td>\n",
       "      <td>19704</td>\n",
       "      <td>Subscriber</td>\n",
       "      <td>1984.0</td>\n",
       "      <td>1</td>\n",
       "    </tr>\n",
       "    <tr>\n",
       "      <th>1</th>\n",
       "      <td>104</td>\n",
       "      <td>2016-04-01 00:00:27</td>\n",
       "      <td>2016-04-01 00:02:12</td>\n",
       "      <td>311</td>\n",
       "      <td>Norfolk St &amp; Broome St</td>\n",
       "      <td>40.717227</td>\n",
       "      <td>-73.988021</td>\n",
       "      <td>350</td>\n",
       "      <td>Clinton St &amp; Grand St</td>\n",
       "      <td>40.715595</td>\n",
       "      <td>-73.987030</td>\n",
       "      <td>21555</td>\n",
       "      <td>Subscriber</td>\n",
       "      <td>1970.0</td>\n",
       "      <td>1</td>\n",
       "    </tr>\n",
       "    <tr>\n",
       "      <th>2</th>\n",
       "      <td>128</td>\n",
       "      <td>2016-04-01 00:00:30</td>\n",
       "      <td>2016-04-01 00:02:38</td>\n",
       "      <td>3064</td>\n",
       "      <td>Myrtle Ave &amp; Lewis Ave</td>\n",
       "      <td>40.696820</td>\n",
       "      <td>-73.937569</td>\n",
       "      <td>3059</td>\n",
       "      <td>Pulaski St &amp; Marcus Garvey Blvd</td>\n",
       "      <td>40.693398</td>\n",
       "      <td>-73.939877</td>\n",
       "      <td>17430</td>\n",
       "      <td>Subscriber</td>\n",
       "      <td>1986.0</td>\n",
       "      <td>1</td>\n",
       "    </tr>\n",
       "    <tr>\n",
       "      <th>3</th>\n",
       "      <td>1197</td>\n",
       "      <td>2016-04-01 00:00:34</td>\n",
       "      <td>2016-04-01 00:20:31</td>\n",
       "      <td>3156</td>\n",
       "      <td>E 72 St &amp; York Ave</td>\n",
       "      <td>40.766638</td>\n",
       "      <td>-73.953483</td>\n",
       "      <td>490</td>\n",
       "      <td>8 Ave &amp; W 33 St</td>\n",
       "      <td>40.751551</td>\n",
       "      <td>-73.993934</td>\n",
       "      <td>17413</td>\n",
       "      <td>Subscriber</td>\n",
       "      <td>1981.0</td>\n",
       "      <td>1</td>\n",
       "    </tr>\n",
       "    <tr>\n",
       "      <th>4</th>\n",
       "      <td>419</td>\n",
       "      <td>2016-04-01 00:00:46</td>\n",
       "      <td>2016-04-01 00:07:46</td>\n",
       "      <td>116</td>\n",
       "      <td>W 17 St &amp; 8 Ave</td>\n",
       "      <td>40.741776</td>\n",
       "      <td>-74.001497</td>\n",
       "      <td>405</td>\n",
       "      <td>Washington St &amp; Gansevoort St</td>\n",
       "      <td>40.739323</td>\n",
       "      <td>-74.008119</td>\n",
       "      <td>16714</td>\n",
       "      <td>Subscriber</td>\n",
       "      <td>1982.0</td>\n",
       "      <td>2</td>\n",
       "    </tr>\n",
       "  </tbody>\n",
       "</table>\n",
       "</div>"
      ],
      "text/plain": [
       "   tripduration           starttime            stoptime  start station id  \\\n",
       "0           496 2016-04-01 00:00:26 2016-04-01 00:08:42               254   \n",
       "1           104 2016-04-01 00:00:27 2016-04-01 00:02:12               311   \n",
       "2           128 2016-04-01 00:00:30 2016-04-01 00:02:38              3064   \n",
       "3          1197 2016-04-01 00:00:34 2016-04-01 00:20:31              3156   \n",
       "4           419 2016-04-01 00:00:46 2016-04-01 00:07:46               116   \n",
       "\n",
       "       start station name  start station latitude  start station longitude  \\\n",
       "0         W 11 St & 6 Ave               40.735324               -73.998004   \n",
       "1  Norfolk St & Broome St               40.717227               -73.988021   \n",
       "2  Myrtle Ave & Lewis Ave               40.696820               -73.937569   \n",
       "3      E 72 St & York Ave               40.766638               -73.953483   \n",
       "4         W 17 St & 8 Ave               40.741776               -74.001497   \n",
       "\n",
       "   end station id                 end station name  end station latitude  \\\n",
       "0             236              St Marks Pl & 2 Ave             40.728419   \n",
       "1             350            Clinton St & Grand St             40.715595   \n",
       "2            3059  Pulaski St & Marcus Garvey Blvd             40.693398   \n",
       "3             490                  8 Ave & W 33 St             40.751551   \n",
       "4             405    Washington St & Gansevoort St             40.739323   \n",
       "\n",
       "   end station longitude  bikeid    usertype  birth year  gender  \n",
       "0             -73.987140   19704  Subscriber      1984.0       1  \n",
       "1             -73.987030   21555  Subscriber      1970.0       1  \n",
       "2             -73.939877   17430  Subscriber      1986.0       1  \n",
       "3             -73.993934   17413  Subscriber      1981.0       1  \n",
       "4             -74.008119   16714  Subscriber      1982.0       2  "
      ]
     },
     "execution_count": 13,
     "metadata": {},
     "output_type": "execute_result"
    }
   ],
   "source": [
    "alltrip.head()"
   ]
  },
  {
   "cell_type": "code",
   "execution_count": 14,
   "metadata": {
    "collapsed": true
   },
   "outputs": [],
   "source": [
    "alltrip['date'] = alltrip.starttime.dt.date"
   ]
  },
  {
   "cell_type": "code",
   "execution_count": 37,
   "metadata": {
    "collapsed": true
   },
   "outputs": [],
   "source": [
    "# Calculate number of rides each day\n",
    "station_usage = alltrip.groupby(['start station id', 'date'])['tripduration'].count().reset_index()\n",
    "# Average daily rides\n",
    "station_usage = station_usage.groupby(['start station id'])['tripduration'].mean().reset_index()\n",
    "\n",
    "cols4 = ['station id', 'rides_counts_daily']\n",
    "station_usage.columns = cols4\n",
    "\n",
    "station_usage.to_csv('Results/station_daily_rides_counts.csv', index = False, sep = ',')"
   ]
  },
  {
   "cell_type": "code",
   "execution_count": 38,
   "metadata": {},
   "outputs": [
    {
     "data": {
      "text/html": [
       "<div>\n",
       "<style>\n",
       "    .dataframe thead tr:only-child th {\n",
       "        text-align: right;\n",
       "    }\n",
       "\n",
       "    .dataframe thead th {\n",
       "        text-align: left;\n",
       "    }\n",
       "\n",
       "    .dataframe tbody tr th {\n",
       "        vertical-align: top;\n",
       "    }\n",
       "</style>\n",
       "<table border=\"1\" class=\"dataframe\">\n",
       "  <thead>\n",
       "    <tr style=\"text-align: right;\">\n",
       "      <th></th>\n",
       "      <th>station id</th>\n",
       "      <th>percent empty</th>\n",
       "      <th>rides_counts_daily</th>\n",
       "      <th>hourly_rides_rate</th>\n",
       "    </tr>\n",
       "  </thead>\n",
       "  <tbody>\n",
       "    <tr>\n",
       "      <th>0</th>\n",
       "      <td>72</td>\n",
       "      <td>0.074340</td>\n",
       "      <td>117.054645</td>\n",
       "      <td>5.268975</td>\n",
       "    </tr>\n",
       "    <tr>\n",
       "      <th>1</th>\n",
       "      <td>79</td>\n",
       "      <td>0.252935</td>\n",
       "      <td>92.540984</td>\n",
       "      <td>5.161364</td>\n",
       "    </tr>\n",
       "    <tr>\n",
       "      <th>2</th>\n",
       "      <td>82</td>\n",
       "      <td>0.077839</td>\n",
       "      <td>38.333333</td>\n",
       "      <td>1.732043</td>\n",
       "    </tr>\n",
       "    <tr>\n",
       "      <th>3</th>\n",
       "      <td>83</td>\n",
       "      <td>0.000904</td>\n",
       "      <td>44.896175</td>\n",
       "      <td>1.872367</td>\n",
       "    </tr>\n",
       "    <tr>\n",
       "      <th>4</th>\n",
       "      <td>116</td>\n",
       "      <td>0.070755</td>\n",
       "      <td>193.404372</td>\n",
       "      <td>8.672108</td>\n",
       "    </tr>\n",
       "  </tbody>\n",
       "</table>\n",
       "</div>"
      ],
      "text/plain": [
       "   station id  percent empty  rides_counts_daily  hourly_rides_rate\n",
       "0          72       0.074340          117.054645           5.268975\n",
       "1          79       0.252935           92.540984           5.161364\n",
       "2          82       0.077839           38.333333           1.732043\n",
       "3          83       0.000904           44.896175           1.872367\n",
       "4         116       0.070755          193.404372           8.672108"
      ]
     },
     "execution_count": 38,
     "metadata": {},
     "output_type": "execute_result"
    }
   ],
   "source": [
    "cols4 = ['station id', 'percent empty']\n",
    "Percent_empty_station.columns = cols4\n",
    "\n",
    "rides_rate = pd.merge(Percent_empty_station, station_usage, how='inner', on=['station id'])\n",
    "\n",
    "rides_rate['hourly_rides_rate'] = rides_rate['rides_counts_daily']/(24*(1-rides_rate['percent empty']))\n",
    "rides_rate.to_csv('Results/station_daily_rides_counts.csv', index = False, sep = ',')\n",
    "rides_rate.head()"
   ]
  },
  {
   "cell_type": "markdown",
   "metadata": {},
   "source": [
    "## Calculate the Daily parking counts"
   ]
  },
  {
   "cell_type": "code",
   "execution_count": 39,
   "metadata": {},
   "outputs": [],
   "source": [
    "# Calculate number of parking each day\n",
    "station_parking = alltrip.groupby(['end station id', 'date'])['tripduration'].count().reset_index()\n",
    "# Average daily parking\n",
    "station_parking = station_parking.groupby(['end station id'])['tripduration'].mean().reset_index()\n",
    "\n",
    "cols5 = ['station id', 'parking_counts_daily']\n",
    "station_parking.columns = cols5\n",
    "\n",
    "station_parking.to_csv('Results/station_daily_parking_counts.csv', index = False, sep = ',')"
   ]
  },
  {
   "cell_type": "code",
   "execution_count": null,
   "metadata": {
    "collapsed": true
   },
   "outputs": [],
   "source": []
  },
  {
   "cell_type": "markdown",
   "metadata": {},
   "source": [
    "# 3. use daily bike occupation ratio  and Parking time to find unbalanced stations"
   ]
  },
  {
   "cell_type": "code",
   "execution_count": 87,
   "metadata": {},
   "outputs": [
    {
     "data": {
      "text/html": [
       "<div>\n",
       "<style>\n",
       "    .dataframe thead tr:only-child th {\n",
       "        text-align: right;\n",
       "    }\n",
       "\n",
       "    .dataframe thead th {\n",
       "        text-align: left;\n",
       "    }\n",
       "\n",
       "    .dataframe tbody tr th {\n",
       "        vertical-align: top;\n",
       "    }\n",
       "</style>\n",
       "<table border=\"1\" class=\"dataframe\">\n",
       "  <thead>\n",
       "    <tr style=\"text-align: right;\">\n",
       "      <th></th>\n",
       "      <th>station id</th>\n",
       "      <th>station name</th>\n",
       "      <th>station latitude</th>\n",
       "      <th>station longitude</th>\n",
       "    </tr>\n",
       "  </thead>\n",
       "  <tbody>\n",
       "    <tr>\n",
       "      <th>0</th>\n",
       "      <td>72</td>\n",
       "      <td>W 52 St &amp; 11 Ave</td>\n",
       "      <td>40.767272</td>\n",
       "      <td>-73.993929</td>\n",
       "    </tr>\n",
       "    <tr>\n",
       "      <th>1</th>\n",
       "      <td>79</td>\n",
       "      <td>Franklin St &amp; W Broadway</td>\n",
       "      <td>40.719116</td>\n",
       "      <td>-74.006667</td>\n",
       "    </tr>\n",
       "    <tr>\n",
       "      <th>2</th>\n",
       "      <td>82</td>\n",
       "      <td>St James Pl &amp; Pearl St</td>\n",
       "      <td>40.711174</td>\n",
       "      <td>-74.000165</td>\n",
       "    </tr>\n",
       "    <tr>\n",
       "      <th>3</th>\n",
       "      <td>83</td>\n",
       "      <td>Atlantic Ave &amp; Fort Greene Pl</td>\n",
       "      <td>40.683826</td>\n",
       "      <td>-73.976323</td>\n",
       "    </tr>\n",
       "    <tr>\n",
       "      <th>4</th>\n",
       "      <td>116</td>\n",
       "      <td>W 17 St &amp; 8 Ave</td>\n",
       "      <td>40.741776</td>\n",
       "      <td>-74.001497</td>\n",
       "    </tr>\n",
       "  </tbody>\n",
       "</table>\n",
       "</div>"
      ],
      "text/plain": [
       "   station id                   station name  station latitude  \\\n",
       "0          72               W 52 St & 11 Ave         40.767272   \n",
       "1          79       Franklin St & W Broadway         40.719116   \n",
       "2          82         St James Pl & Pearl St         40.711174   \n",
       "3          83  Atlantic Ave & Fort Greene Pl         40.683826   \n",
       "4         116                W 17 St & 8 Ave         40.741776   \n",
       "\n",
       "   station longitude  \n",
       "0         -73.993929  \n",
       "1         -74.006667  \n",
       "2         -74.000165  \n",
       "3         -73.976323  \n",
       "4         -74.001497  "
      ]
     },
     "execution_count": 87,
     "metadata": {},
     "output_type": "execute_result"
    }
   ],
   "source": [
    "# load cleaned station info\n",
    "station_info = pd.read_csv('Results/station_names_clean.csv', sep = ',')\n",
    "station_info.head()"
   ]
  },
  {
   "cell_type": "code",
   "execution_count": 88,
   "metadata": {},
   "outputs": [
    {
     "data": {
      "text/html": [
       "<div>\n",
       "<style>\n",
       "    .dataframe thead tr:only-child th {\n",
       "        text-align: right;\n",
       "    }\n",
       "\n",
       "    .dataframe thead th {\n",
       "        text-align: left;\n",
       "    }\n",
       "\n",
       "    .dataframe tbody tr th {\n",
       "        vertical-align: top;\n",
       "    }\n",
       "</style>\n",
       "<table border=\"1\" class=\"dataframe\">\n",
       "  <thead>\n",
       "    <tr style=\"text-align: right;\">\n",
       "      <th></th>\n",
       "      <th>station id</th>\n",
       "      <th>daily bike occupation ratio</th>\n",
       "    </tr>\n",
       "  </thead>\n",
       "  <tbody>\n",
       "    <tr>\n",
       "      <th>0</th>\n",
       "      <td>72</td>\n",
       "      <td>0.311354</td>\n",
       "    </tr>\n",
       "    <tr>\n",
       "      <th>1</th>\n",
       "      <td>79</td>\n",
       "      <td>0.308189</td>\n",
       "    </tr>\n",
       "    <tr>\n",
       "      <th>2</th>\n",
       "      <td>82</td>\n",
       "      <td>0.328683</td>\n",
       "    </tr>\n",
       "    <tr>\n",
       "      <th>3</th>\n",
       "      <td>83</td>\n",
       "      <td>0.492496</td>\n",
       "    </tr>\n",
       "    <tr>\n",
       "      <th>4</th>\n",
       "      <td>116</td>\n",
       "      <td>0.361963</td>\n",
       "    </tr>\n",
       "  </tbody>\n",
       "</table>\n",
       "</div>"
      ],
      "text/plain": [
       "   station id  daily bike occupation ratio\n",
       "0          72                     0.311354\n",
       "1          79                     0.308189\n",
       "2          82                     0.328683\n",
       "3          83                     0.492496\n",
       "4         116                     0.361963"
      ]
     },
     "execution_count": 88,
     "metadata": {},
     "output_type": "execute_result"
    }
   ],
   "source": [
    "# daily bike occupation ratio\n",
    "bike_occupation_ratio_station.head()"
   ]
  },
  {
   "cell_type": "code",
   "execution_count": 89,
   "metadata": {},
   "outputs": [
    {
     "data": {
      "text/html": [
       "<div>\n",
       "<style>\n",
       "    .dataframe thead tr:only-child th {\n",
       "        text-align: right;\n",
       "    }\n",
       "\n",
       "    .dataframe thead th {\n",
       "        text-align: left;\n",
       "    }\n",
       "\n",
       "    .dataframe tbody tr th {\n",
       "        vertical-align: top;\n",
       "    }\n",
       "</style>\n",
       "<table border=\"1\" class=\"dataframe\">\n",
       "  <thead>\n",
       "    <tr style=\"text-align: right;\">\n",
       "      <th></th>\n",
       "      <th>station id</th>\n",
       "      <th>parking time</th>\n",
       "    </tr>\n",
       "  </thead>\n",
       "  <tbody>\n",
       "    <tr>\n",
       "      <th>0</th>\n",
       "      <td>72</td>\n",
       "      <td>1263.5</td>\n",
       "    </tr>\n",
       "    <tr>\n",
       "      <th>1</th>\n",
       "      <td>79</td>\n",
       "      <td>3613.0</td>\n",
       "    </tr>\n",
       "    <tr>\n",
       "      <th>2</th>\n",
       "      <td>82</td>\n",
       "      <td>4086.0</td>\n",
       "    </tr>\n",
       "    <tr>\n",
       "      <th>3</th>\n",
       "      <td>83</td>\n",
       "      <td>11965.0</td>\n",
       "    </tr>\n",
       "    <tr>\n",
       "      <th>4</th>\n",
       "      <td>116</td>\n",
       "      <td>989.0</td>\n",
       "    </tr>\n",
       "  </tbody>\n",
       "</table>\n",
       "</div>"
      ],
      "text/plain": [
       "   station id  parking time\n",
       "0          72        1263.5\n",
       "1          79        3613.0\n",
       "2          82        4086.0\n",
       "3          83       11965.0\n",
       "4         116         989.0"
      ]
     },
     "execution_count": 89,
     "metadata": {},
     "output_type": "execute_result"
    }
   ],
   "source": [
    "# Parking time\n",
    "station_trip_median.head()"
   ]
  },
  {
   "cell_type": "code",
   "execution_count": 90,
   "metadata": {},
   "outputs": [
    {
     "data": {
      "text/html": [
       "<div>\n",
       "<style>\n",
       "    .dataframe thead tr:only-child th {\n",
       "        text-align: right;\n",
       "    }\n",
       "\n",
       "    .dataframe thead th {\n",
       "        text-align: left;\n",
       "    }\n",
       "\n",
       "    .dataframe tbody tr th {\n",
       "        vertical-align: top;\n",
       "    }\n",
       "</style>\n",
       "<table border=\"1\" class=\"dataframe\">\n",
       "  <thead>\n",
       "    <tr style=\"text-align: right;\">\n",
       "      <th></th>\n",
       "      <th>station id</th>\n",
       "      <th>station name</th>\n",
       "      <th>station latitude</th>\n",
       "      <th>station longitude</th>\n",
       "      <th>daily bike occupation ratio</th>\n",
       "      <th>parking time</th>\n",
       "      <th>DBOR_Norm</th>\n",
       "      <th>PT_Norm</th>\n",
       "    </tr>\n",
       "  </thead>\n",
       "  <tbody>\n",
       "    <tr>\n",
       "      <th>0</th>\n",
       "      <td>72</td>\n",
       "      <td>W 52 St &amp; 11 Ave</td>\n",
       "      <td>40.767272</td>\n",
       "      <td>-73.993929</td>\n",
       "      <td>0.311354</td>\n",
       "      <td>1263.5</td>\n",
       "      <td>-0.431020</td>\n",
       "      <td>-1.049289</td>\n",
       "    </tr>\n",
       "    <tr>\n",
       "      <th>1</th>\n",
       "      <td>79</td>\n",
       "      <td>Franklin St &amp; W Broadway</td>\n",
       "      <td>40.719116</td>\n",
       "      <td>-74.006667</td>\n",
       "      <td>0.308189</td>\n",
       "      <td>3613.0</td>\n",
       "      <td>-0.449950</td>\n",
       "      <td>-0.157958</td>\n",
       "    </tr>\n",
       "    <tr>\n",
       "      <th>2</th>\n",
       "      <td>82</td>\n",
       "      <td>St James Pl &amp; Pearl St</td>\n",
       "      <td>40.711174</td>\n",
       "      <td>-74.000165</td>\n",
       "      <td>0.328683</td>\n",
       "      <td>4086.0</td>\n",
       "      <td>-0.327360</td>\n",
       "      <td>-0.053586</td>\n",
       "    </tr>\n",
       "    <tr>\n",
       "      <th>3</th>\n",
       "      <td>83</td>\n",
       "      <td>Atlantic Ave &amp; Fort Greene Pl</td>\n",
       "      <td>40.683826</td>\n",
       "      <td>-73.976323</td>\n",
       "      <td>0.492496</td>\n",
       "      <td>11965.0</td>\n",
       "      <td>0.652544</td>\n",
       "      <td>0.857907</td>\n",
       "    </tr>\n",
       "    <tr>\n",
       "      <th>4</th>\n",
       "      <td>116</td>\n",
       "      <td>W 17 St &amp; 8 Ave</td>\n",
       "      <td>40.741776</td>\n",
       "      <td>-74.001497</td>\n",
       "      <td>0.361963</td>\n",
       "      <td>989.0</td>\n",
       "      <td>-0.128286</td>\n",
       "      <td>-1.257092</td>\n",
       "    </tr>\n",
       "  </tbody>\n",
       "</table>\n",
       "</div>"
      ],
      "text/plain": [
       "   station id                   station name  station latitude  \\\n",
       "0          72               W 52 St & 11 Ave         40.767272   \n",
       "1          79       Franklin St & W Broadway         40.719116   \n",
       "2          82         St James Pl & Pearl St         40.711174   \n",
       "3          83  Atlantic Ave & Fort Greene Pl         40.683826   \n",
       "4         116                W 17 St & 8 Ave         40.741776   \n",
       "\n",
       "   station longitude  daily bike occupation ratio  parking time  DBOR_Norm  \\\n",
       "0         -73.993929                     0.311354        1263.5  -0.431020   \n",
       "1         -74.006667                     0.308189        3613.0  -0.449950   \n",
       "2         -74.000165                     0.328683        4086.0  -0.327360   \n",
       "3         -73.976323                     0.492496       11965.0   0.652544   \n",
       "4         -74.001497                     0.361963         989.0  -0.128286   \n",
       "\n",
       "    PT_Norm  \n",
       "0 -1.049289  \n",
       "1 -0.157958  \n",
       "2 -0.053586  \n",
       "3  0.857907  \n",
       "4 -1.257092  "
      ]
     },
     "execution_count": 90,
     "metadata": {},
     "output_type": "execute_result"
    }
   ],
   "source": [
    "station_identif = pd.merge(bike_occupation_ratio_station, station_trip_median, how='inner', on=['station id'])\n",
    "station_identif = pd.merge(station_info, station_identif, how='inner', on=['station id'])\n",
    "\n",
    "# 'daily bike occupation ratio'\n",
    "station_identif['DBOR_Norm'] = (station_identif['daily bike occupation ratio'] - station_identif['daily bike occupation ratio'].mean())\\\n",
    "                                / (station_identif['daily bike occupation ratio'].std())\n",
    "\n",
    "# normalize 'log(Parking Time)'\n",
    "station_identif['PT_Norm'] = (np.log(station_identif['parking time']) - np.log(station_identif['parking time']).mean())\\\n",
    "                                / (np.log(station_identif['parking time']).std())\n",
    "    \n",
    "station_identif.head()"
   ]
  },
  {
   "cell_type": "code",
   "execution_count": 91,
   "metadata": {
    "collapsed": true
   },
   "outputs": [],
   "source": [
    "# Classifying stations\n",
    "station_identif['Station_type'] = 'Balanced'\n",
    "station_identif.loc[(station_identif['DBOR_Norm'] > 1) & (station_identif['PT_Norm'] > 1), 'Station_type']= 'LowDemand&HighSupply'\n",
    "station_identif.loc[(station_identif['DBOR_Norm'] < -1 ) & (station_identif['PT_Norm'] < -1), 'Station_type']= 'HighDemand&LowSupply'\n",
    "\n",
    "station_identif.to_csv('Results/Idenfifying_stations.csv', index=False, sep=',')"
   ]
  },
  {
   "cell_type": "code",
   "execution_count": 92,
   "metadata": {},
   "outputs": [
    {
     "data": {
      "text/html": [
       "<div>\n",
       "<style>\n",
       "    .dataframe thead tr:only-child th {\n",
       "        text-align: right;\n",
       "    }\n",
       "\n",
       "    .dataframe thead th {\n",
       "        text-align: left;\n",
       "    }\n",
       "\n",
       "    .dataframe tbody tr th {\n",
       "        vertical-align: top;\n",
       "    }\n",
       "</style>\n",
       "<table border=\"1\" class=\"dataframe\">\n",
       "  <thead>\n",
       "    <tr style=\"text-align: right;\">\n",
       "      <th></th>\n",
       "      <th>station id</th>\n",
       "      <th>station name</th>\n",
       "      <th>station latitude</th>\n",
       "      <th>station longitude</th>\n",
       "      <th>daily bike occupation ratio</th>\n",
       "      <th>parking time</th>\n",
       "      <th>DBOR_Norm</th>\n",
       "      <th>PT_Norm</th>\n",
       "      <th>Station_type</th>\n",
       "    </tr>\n",
       "  </thead>\n",
       "  <tbody>\n",
       "    <tr>\n",
       "      <th>0</th>\n",
       "      <td>72</td>\n",
       "      <td>W 52 St &amp; 11 Ave</td>\n",
       "      <td>40.767272</td>\n",
       "      <td>-73.993929</td>\n",
       "      <td>0.311354</td>\n",
       "      <td>1263.5</td>\n",
       "      <td>-0.431020</td>\n",
       "      <td>-1.049289</td>\n",
       "      <td>Balanced</td>\n",
       "    </tr>\n",
       "    <tr>\n",
       "      <th>1</th>\n",
       "      <td>79</td>\n",
       "      <td>Franklin St &amp; W Broadway</td>\n",
       "      <td>40.719116</td>\n",
       "      <td>-74.006667</td>\n",
       "      <td>0.308189</td>\n",
       "      <td>3613.0</td>\n",
       "      <td>-0.449950</td>\n",
       "      <td>-0.157958</td>\n",
       "      <td>Balanced</td>\n",
       "    </tr>\n",
       "    <tr>\n",
       "      <th>2</th>\n",
       "      <td>82</td>\n",
       "      <td>St James Pl &amp; Pearl St</td>\n",
       "      <td>40.711174</td>\n",
       "      <td>-74.000165</td>\n",
       "      <td>0.328683</td>\n",
       "      <td>4086.0</td>\n",
       "      <td>-0.327360</td>\n",
       "      <td>-0.053586</td>\n",
       "      <td>Balanced</td>\n",
       "    </tr>\n",
       "    <tr>\n",
       "      <th>3</th>\n",
       "      <td>83</td>\n",
       "      <td>Atlantic Ave &amp; Fort Greene Pl</td>\n",
       "      <td>40.683826</td>\n",
       "      <td>-73.976323</td>\n",
       "      <td>0.492496</td>\n",
       "      <td>11965.0</td>\n",
       "      <td>0.652544</td>\n",
       "      <td>0.857907</td>\n",
       "      <td>Balanced</td>\n",
       "    </tr>\n",
       "    <tr>\n",
       "      <th>4</th>\n",
       "      <td>116</td>\n",
       "      <td>W 17 St &amp; 8 Ave</td>\n",
       "      <td>40.741776</td>\n",
       "      <td>-74.001497</td>\n",
       "      <td>0.361963</td>\n",
       "      <td>989.0</td>\n",
       "      <td>-0.128286</td>\n",
       "      <td>-1.257092</td>\n",
       "      <td>Balanced</td>\n",
       "    </tr>\n",
       "  </tbody>\n",
       "</table>\n",
       "</div>"
      ],
      "text/plain": [
       "   station id                   station name  station latitude  \\\n",
       "0          72               W 52 St & 11 Ave         40.767272   \n",
       "1          79       Franklin St & W Broadway         40.719116   \n",
       "2          82         St James Pl & Pearl St         40.711174   \n",
       "3          83  Atlantic Ave & Fort Greene Pl         40.683826   \n",
       "4         116                W 17 St & 8 Ave         40.741776   \n",
       "\n",
       "   station longitude  daily bike occupation ratio  parking time  DBOR_Norm  \\\n",
       "0         -73.993929                     0.311354        1263.5  -0.431020   \n",
       "1         -74.006667                     0.308189        3613.0  -0.449950   \n",
       "2         -74.000165                     0.328683        4086.0  -0.327360   \n",
       "3         -73.976323                     0.492496       11965.0   0.652544   \n",
       "4         -74.001497                     0.361963         989.0  -0.128286   \n",
       "\n",
       "    PT_Norm Station_type  \n",
       "0 -1.049289     Balanced  \n",
       "1 -0.157958     Balanced  \n",
       "2 -0.053586     Balanced  \n",
       "3  0.857907     Balanced  \n",
       "4 -1.257092     Balanced  "
      ]
     },
     "execution_count": 92,
     "metadata": {},
     "output_type": "execute_result"
    }
   ],
   "source": [
    "station_identif.head()"
   ]
  },
  {
   "cell_type": "markdown",
   "metadata": {},
   "source": [
    "# 4.How to balance"
   ]
  },
  {
   "cell_type": "code",
   "execution_count": 93,
   "metadata": {
    "collapsed": true
   },
   "outputs": [],
   "source": [
    "HighDemand_LowSupply = station_identif.loc[station_identif['Station_type'] == 'HighDemand&LowSupply']\n",
    "HighDemand_LowSupply = HighDemand_LowSupply.drop(['daily bike occupation ratio', \n",
    "                                               'parking time', 'DBOR_Norm', 'PT_Norm'], 1)\n",
    "\n",
    "LowDemand_HighSupply = station_identif.loc[station_identif['Station_type'] == 'LowDemand&HighSupply']\n",
    "LowDemand_HighSupply = LowDemand_HighSupply.drop(['daily bike occupation ratio', \n",
    "                                               'parking time', 'DBOR_Norm', 'PT_Norm'], 1)"
   ]
  },
  {
   "cell_type": "code",
   "execution_count": 94,
   "metadata": {},
   "outputs": [
    {
     "name": "stdout",
     "output_type": "stream",
     "text": [
      "   station id  percent empty\n",
      "0          72       0.074340\n",
      "1          79       0.252935\n",
      "2          82       0.077839\n",
      "3          83       0.000904\n",
      "4         116       0.070755\n",
      "   station id  percent empty  rides_counts_daily  hourly_rides_rate\n",
      "0          72       0.074340          117.054645           5.268975\n",
      "1          79       0.252935           92.540984           5.161364\n",
      "2          82       0.077839           38.333333           1.732043\n",
      "3          83       0.000904           44.896175           1.872367\n",
      "4         116       0.070755          193.404372           8.672108\n",
      "   station id  parking_counts_daily\n",
      "0          72            116.535519\n",
      "1          79             93.224044\n",
      "2          82             38.316940\n",
      "3          83             47.311475\n",
      "4         116            195.267760\n"
     ]
    }
   ],
   "source": [
    "print(Percent_empty_station.head()) #Empty rate\n",
    "\n",
    "print(rides_rate.head()) # hourly rides rate\n",
    "\n",
    "print(station_parking.head()) #daily parking rate"
   ]
  },
  {
   "cell_type": "code",
   "execution_count": 95,
   "metadata": {},
   "outputs": [
    {
     "name": "stdout",
     "output_type": "stream",
     "text": [
      "   station id        station name  station latitude  station longitude  \\\n",
      "0         153     E 40 St & 5 Ave         40.752062         -73.981632   \n",
      "1         160     E 35 St & 3 Ave         40.746524         -73.977885   \n",
      "2         167     E 39 St & 3 Ave         40.748901         -73.976049   \n",
      "3         267  Broadway & W 36 St         40.750977         -73.987654   \n",
      "4         357  E 11 St & Broadway         40.732618         -73.991580   \n",
      "\n",
      "           Station_type  percent empty_x  percent empty_y  rides_counts_daily  \\\n",
      "0  HighDemand&LowSupply         0.308587         0.308587          158.306011   \n",
      "1  HighDemand&LowSupply         0.252921         0.252921           48.058824   \n",
      "2  HighDemand&LowSupply         0.265055         0.265055          163.229508   \n",
      "3  HighDemand&LowSupply         0.540579         0.540579           78.633880   \n",
      "4  HighDemand&LowSupply         0.308722         0.308722           93.808743   \n",
      "\n",
      "   hourly_rides_rate  parking_counts_daily  \n",
      "0           9.540001            144.252747  \n",
      "1           2.680375             48.235294  \n",
      "2           9.254066            160.049180  \n",
      "3           7.131613             76.032787  \n",
      "4           5.654307             93.786885  \n",
      "   station id                   station name  station latitude  \\\n",
      "0         243        Fulton St & Rockwell Pl         40.688226   \n",
      "1         324        DeKalb Ave & Hudson Ave         40.689888   \n",
      "2         373   Willoughby Ave & Walworth St         40.693317   \n",
      "3         396     Lefferts Pl & Franklin Ave         40.680342   \n",
      "4        3046  Marcus Garvey Blvd & Macon St         40.682601   \n",
      "\n",
      "   station longitude          Station_type  percent empty_x  percent empty_y  \\\n",
      "0         -73.979382  LowDemand&HighSupply         0.009914         0.009914   \n",
      "1         -73.981013  LowDemand&HighSupply         0.022746         0.022746   \n",
      "2         -73.953820  LowDemand&HighSupply         0.012902         0.012902   \n",
      "3         -73.955769  LowDemand&HighSupply         0.024402         0.024402   \n",
      "4         -73.938037  LowDemand&HighSupply         0.008220         0.008220   \n",
      "\n",
      "   rides_counts_daily  hourly_rides_rate  parking_counts_daily  \n",
      "0           26.967213           1.134886             35.934426  \n",
      "1           49.213115           2.098274             72.437158  \n",
      "2           16.967213           0.716208             17.945355  \n",
      "3           29.972678           1.280098             32.486339  \n",
      "4           11.174863           0.469478             11.551913  \n"
     ]
    }
   ],
   "source": [
    "HighDemand_LowSupply = pd.merge(HighDemand_LowSupply, Percent_empty_station, how='left', on = ['station id'])\n",
    "HighDemand_LowSupply = pd.merge(HighDemand_LowSupply, rides_rate, how='left', on = ['station id'])\n",
    "HighDemand_LowSupply = pd.merge(HighDemand_LowSupply, station_parking, how='left', on = ['station id'])\n",
    "\n",
    "\n",
    "LowDemand_HighSupply = pd.merge(LowDemand_HighSupply, Percent_empty_station, how='left', on = ['station id'])\n",
    "LowDemand_HighSupply = pd.merge(LowDemand_HighSupply, rides_rate, how='left', on = ['station id'])\n",
    "LowDemand_HighSupply = pd.merge(LowDemand_HighSupply, station_parking, how='left', on = ['station id'])\n"
   ]
  },
  {
   "cell_type": "code",
   "execution_count": 96,
   "metadata": {},
   "outputs": [
    {
     "name": "stdout",
     "output_type": "stream",
     "text": [
      "Stations lack bikes has 50\n",
      "Stations lack rides has 34\n"
     ]
    }
   ],
   "source": [
    "print(\"Stations lack bikes has {}\".format(len(HighDemand_LowSupply)))\n",
    "print(\"Stations lack rides has {}\".format(len(LowDemand_HighSupply)))                                       "
   ]
  },
  {
   "cell_type": "code",
   "execution_count": 132,
   "metadata": {},
   "outputs": [
    {
     "name": "stdout",
     "output_type": "stream",
     "text": [
      "HighDemand\n",
      "8.494158014601581\n",
      "0.30466969660069815\n",
      "135.36781566806988\n",
      "LowDemand\n",
      "0.7856349347184104\n",
      "0.00940423404848057\n",
      "20.70412419642314\n"
     ]
    }
   ],
   "source": [
    "HighDemand_hourly_rides_rate = HighDemand_LowSupply['hourly_rides_rate'].mean()\n",
    "HighDemand_percent_empty = HighDemand_LowSupply['percent empty_x'].mean()\n",
    "HighDemand_parking_rate = HighDemand_LowSupply['parking_counts_daily'].mean()\n",
    "print('HighDemand')\n",
    "print(HighDemand_hourly_rides_rate)\n",
    "print(HighDemand_percent_empty)\n",
    "print(HighDemand_parking_rate)\n",
    "\n",
    "LowDemand_hourly_rides_rate = LowDemand_HighSupply['hourly_rides_rate'].mean()\n",
    "LowDemand_percent_empty = LowDemand_HighSupply['percent empty_x'].mean()\n",
    "LowDemand_parking_rate = LowDemand_HighSupply['parking_counts_daily'].mean()\n",
    "LowDemand_rides_counts_daily = LowDemand_HighSupply['rides_counts_daily'].mean()\n",
    "print('LowDemand')\n",
    "print(LowDemand_hourly_rides_rate)\n",
    "print(LowDemand_percent_empty)\n",
    "print(LowDemand_parking_rate)"
   ]
  },
  {
   "cell_type": "code",
   "execution_count": 194,
   "metadata": {},
   "outputs": [],
   "source": [
    "b = [1,10,20,30,50,60, 70, 80, 90, 100,110, 120, 150]\n",
    "\n",
    "y = []\n",
    "\n",
    "emptytime = HighDemand_percent_empty\n",
    "\n",
    "for x in b:\n",
    "    emptytime = HighDemand_percent_empty\n",
    "    t1 = ((1 - emptytime)*24/HighDemand_parking_rate)*x/50\n",
    "    if t1 > emptytime:\n",
    "        x = x - 1\n",
    "        t1 = ((1 - emptytime)*24/HighDemand_parking_rate)*x/50\n",
    "    else:\n",
    "        y1 = HighDemand_hourly_rides_rate * ((1 - emptytime)*24/HighDemand_parking_rate)*x\n",
    "\n",
    "    y.append(y1)"
   ]
  },
  {
   "cell_type": "code",
   "execution_count": 195,
   "metadata": {},
   "outputs": [],
   "source": [
    "b = [1,10,20,30,50,60, 70, 80, 90, 100,110, 120, 150]\n",
    "\n",
    "z = []\n",
    "\n",
    "emptytime = LowDemand_percent_empty\n",
    "\n",
    "for x in b:\n",
    "    emptytime = LowDemand_percent_empty\n",
    "    y1 = LowDemand_rides_counts_daily - LowDemand_hourly_rides_rate * ((1 - emptytime)*24/LowDemand_parking_rate)*(x/34)\n",
    "\n",
    "    z.append(y1)\n",
    "    "
   ]
  },
  {
   "cell_type": "code",
   "execution_count": 196,
   "metadata": {},
   "outputs": [
    {
     "data": {
      "image/png": "[encoded data removed]",
      "text/plain": [
       "<matplotlib.figure.Figure at 0x16de4fa90>"
      ]
     },
     "metadata": {},
     "output_type": "display_data"
    }
   ],
   "source": [
    "fig, ax1 = plt.subplots()\n",
    "t = b\n",
    "s1 = y\n",
    "ax1.plot(t, s1, 'b-')\n",
    "ax1.set_xlabel('Number of bikes')\n",
    "# Make the y-axis label, ticks and tick labels match the line color.\n",
    "ax1.set_ylabel('Number of Increased rides daily', color='b')\n",
    "ax1.tick_params('y', colors='b')\n",
    "\n",
    "ax2 = ax1.twinx()\n",
    "s2 = z\n",
    "ax2.plot(t, s2, 'r-')\n",
    "ax2.set_ylabel('Number of rides daily at low demand stations', color='r')\n",
    "ax2.tick_params('y', colors='r')\n",
    "\n",
    "fig.tight_layout()\n",
    "plt.show()"
   ]
  },
  {
   "cell_type": "code",
   "execution_count": 197,
   "metadata": {},
   "outputs": [],
   "source": [
    "demand_supply = pd.DataFrame(\n",
    "    {'bike_number': b,\n",
    "     'Increase Daily Rides': y,\n",
    "     'Decreas Daily Rides': z\n",
    "    })\n",
    "demand_supply.to_csv('Results/demand_supply_analysis.csv', index = False, sep=',')"
   ]
  },
  {
   "cell_type": "code",
   "execution_count": 198,
   "metadata": {},
   "outputs": [
    {
     "name": "stdout",
     "output_type": "stream",
     "text": [
      "By taking 70 bikes from 34 \"low demand and high supply\" stations to 50 \"high demand and low supply\" stations\n",
      "increase rides daily per station in 50 \"high demand and low supply\" stations is 104.42648594677246\n",
      "Only decrease rides daily per station in 34 \"low demand and high supply\" stations to 16.755854674864356\n"
     ]
    }
   ],
   "source": [
    "y2 = LowDemand_rides_counts_daily - LowDemand_hourly_rides_rate * ((1 - emptytime)*24/LowDemand_parking_rate)*(70/34)\n",
    "\n",
    "y1 = HighDemand_hourly_rides_rate * ((1 - emptytime)*24/HighDemand_parking_rate)*70\n",
    "print('By taking 70 bikes from 34 \"low demand and high supply\" stations to 50 \"high demand and low supply\" stations')\n",
    "print('increase rides daily per station in 50 \"high demand and low supply\" stations is {}'.format(y1))\n",
    "print('Only decrease rides daily per station in 34 \"low demand and high supply\" stations to {}'.format(y2))"
   ]
  },
  {
   "cell_type": "code",
   "execution_count": null,
   "metadata": {
    "collapsed": true
   },
   "outputs": [],
   "source": []
  }
 ],
 "metadata": {
  "kernelspec": {
   "display_name": "Python [conda env:python3]",
   "language": "python",
   "name": "conda-env-python3-py"
  },
  "language_info": {
   "codemirror_mode": {
    "name": "ipython",
    "version": 3
   },
   "file_extension": ".py",
   "mimetype": "text/x-python",
   "name": "python",
   "nbconvert_exporter": "python",
   "pygments_lexer": "ipython3",
   "version": "3.5.2"
  }
 },
 "nbformat": 4,
 "nbformat_minor": 1
}
