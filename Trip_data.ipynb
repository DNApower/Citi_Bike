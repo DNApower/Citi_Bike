{
 "cells": [
  {
   "cell_type": "code",
   "execution_count": null,
   "metadata": {
    "collapsed": true
   },
   "outputs": [],
   "source": [
    "%matplotlib inline\n",
    "import pandas as pd\n",
    "import numpy as np\n",
    "from datetime import datetime\n",
    "from matplotlib import pyplot as plt"
   ]
  },
  {
   "cell_type": "code",
   "execution_count": null,
   "metadata": {
    "scrolled": false
   },
   "outputs": [],
   "source": [
    "df = pd.read_csv(\"201606-citibike-tripdata.csv\")\n",
    "df.head()"
   ]
  },
  {
   "cell_type": "code",
   "execution_count": null,
   "metadata": {},
   "outputs": [],
   "source": [
    "#df.iloc[0]\n",
    "#for i in df.iloc[0]:\n",
    "    #print(type(i))\n",
    "    \n",
    "df['starttime'] = pd.to_datetime(df.starttime)\n",
    "df['stoptime'] = pd.to_datetime(df.stoptime)\n",
    "\n",
    "df.head()"
   ]
  },
  {
   "cell_type": "markdown",
   "metadata": {
    "collapsed": true
   },
   "source": [
    "meantime = df.groupby(['start station id', 'end station id'])['tripduration'].mean().reset_index()\n",
    "stdtime = df.groupby(['start station id', 'end station id'])['tripduration'].std().reset_index()"
   ]
  },
  {
   "cell_type": "markdown",
   "metadata": {},
   "source": [
    "combinetime = pd.merge(meantime, stdtime, how='inner', on=['start station id', 'end station id'])\n",
    "combinetime"
   ]
  },
  {
   "cell_type": "markdown",
   "metadata": {
    "collapsed": true
   },
   "source": [
    "tripcount = df.groupby(['start station id', 'end station id'])['tripduration'].count().reset_index()"
   ]
  },
  {
   "cell_type": "markdown",
   "metadata": {},
   "source": [
    "tripcount"
   ]
  },
  {
   "cell_type": "code",
   "execution_count": null,
   "metadata": {},
   "outputs": [],
   "source": [
    "ended_station=df[['end station id', 'bikeid', 'stoptime']]\n",
    "cols1 = ['station id', 'bikeid', 'stoptime']\n",
    "ended_station.columns = cols1\n",
    "ended_station.head()"
   ]
  },
  {
   "cell_type": "code",
   "execution_count": null,
   "metadata": {},
   "outputs": [],
   "source": [
    "start_station =df[['start station id', 'bikeid', 'starttime']]\n",
    "cols2 = ['station id', 'bikeid', 'starttime']\n",
    "start_station.columns = cols2\n",
    "start_station.head()"
   ]
  },
  {
   "cell_type": "code",
   "execution_count": null,
   "metadata": {},
   "outputs": [],
   "source": [
    "# Create a dataframe that contains where the bike parks, when tt got parked  and when it got riden away\n",
    "mergedata = pd.merge(ended_station, start_station, how='left', on = ['station id','bikeid'])\n",
    "mergedata.head()"
   ]
  },
  {
   "cell_type": "code",
   "execution_count": null,
   "metadata": {},
   "outputs": [],
   "source": [
    "mergedata['TimeDiff'] = mergedata['starttime'] - mergedata['stoptime']\n",
    "mergedata.head()"
   ]
  },
  {
   "cell_type": "code",
   "execution_count": null,
   "metadata": {},
   "outputs": [],
   "source": [
    "list(mergedata)\n",
    "#mergedata.head()"
   ]
  },
  {
   "cell_type": "code",
   "execution_count": null,
   "metadata": {},
   "outputs": [],
   "source": [
    "mergedata.dtypes"
   ]
  },
  {
   "cell_type": "code",
   "execution_count": null,
   "metadata": {},
   "outputs": [],
   "source": [
    "mergedata = mergedata.drop(mergedata[mergedata['TimeDiff'] < pd.Timedelta(0)].index)\n",
    "mergedata = mergedata[mergedata.TimeDiff.notnull()]\n"
   ]
  },
  {
   "cell_type": "code",
   "execution_count": null,
   "metadata": {},
   "outputs": [],
   "source": [
    "mergedata_clean = mergedata.groupby(['station id', 'bikeid', 'stoptime'])['TimeDiff'].min().reset_index()\n",
    "\n",
    "mergedata_clean"
   ]
  },
  {
   "cell_type": "code",
   "execution_count": null,
   "metadata": {},
   "outputs": [],
   "source": [
    "mergedata_clean['TimeDiff_convert'] = mergedata_clean['TimeDiff'].apply(lambda row: row.total_seconds())\n",
    "\n",
    "mergedata_clean.head()"
   ]
  },
  {
   "cell_type": "code",
   "execution_count": null,
   "metadata": {},
   "outputs": [],
   "source": [
    "mergedata_clean.dtypes"
   ]
  },
  {
   "cell_type": "code",
   "execution_count": null,
   "metadata": {},
   "outputs": [],
   "source": [
    "mean_station_time = mergedata_clean.groupby(['station id'])['TimeDiff_convert'].median().reset_index()\n",
    "mean_station_time"
   ]
  },
  {
   "cell_type": "code",
   "execution_count": null,
   "metadata": {},
   "outputs": [],
   "source": [
    "mean_station_time.to_csv('mean_station_time.csv', index=False)"
   ]
  },
  {
   "cell_type": "code",
   "execution_count": null,
   "metadata": {
    "collapsed": true
   },
   "outputs": [],
   "source": []
  }
 ],
 "metadata": {
  "kernelspec": {
   "display_name": "Python [conda env:python3]",
   "language": "python",
   "name": "conda-env-python3-py"
  },
  "language_info": {
   "codemirror_mode": {
    "name": "ipython",
    "version": 3
   },
   "file_extension": ".py",
   "mimetype": "text/x-python",
   "name": "python",
   "nbconvert_exporter": "python",
   "pygments_lexer": "ipython3",
   "version": "3.5.2"
  }
 },
 "nbformat": 4,
 "nbformat_minor": 1
}
